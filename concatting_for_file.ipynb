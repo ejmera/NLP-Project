{
 "cells": [
  {
   "cell_type": "code",
   "execution_count": null,
   "id": "c7213b00-536a-483d-93f7-730af447df64",
   "metadata": {},
   "outputs": [],
   "source": [
    "import pandas as pd\n",
    "import glob\n",
    "import os\n",
    "\n",
    "\n",
    "klasor_yolu = \"CSV_FOLDER_PATH\"  # <----------------\n",
    "\n",
    "\n",
    "csv_dosyalar = glob.glob(os.path.join(klasor_yolu, \"*.csv\"))\n",
    "\n",
    "\n",
    "veriler = []\n",
    "for dosya in csv_dosyalar:\n",
    "    df = pd.read_csv(dosya)\n",
    "    veriler.append(df)\n",
    "\n",
    "\n",
    "birlesmis_df = pd.concat(veriler, ignore_index=True)\n",
    "\n",
    "\n",
    "birlesmis_df.to_csv(\"birlesmis_dosya.csv\", index=False)\n",
    "\n",
    "print(\"CSV-concated\")"
   ]
  }
 ],
 "metadata": {
  "kernelspec": {
   "display_name": "Python (deeplearn)",
   "language": "python",
   "name": "deeplearn"
  },
  "language_info": {
   "codemirror_mode": {
    "name": "ipython",
    "version": 3
   },
   "file_extension": ".py",
   "mimetype": "text/x-python",
   "name": "python",
   "nbconvert_exporter": "python",
   "pygments_lexer": "ipython3",
   "version": "3.9.23"
  }
 },
 "nbformat": 4,
 "nbformat_minor": 5
}
