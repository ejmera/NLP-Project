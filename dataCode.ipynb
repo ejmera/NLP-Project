{
 "cells": [
  {
   "cell_type": "code",
   "execution_count": 7,
   "id": "af200737-55b0-4c65-acef-bdaf520e6917",
   "metadata": {},
   "outputs": [
    {
     "name": "stdout",
     "output_type": "stream",
     "text": [
      "⚠️ 1. kez yükseklik değişmedi (step 90)\n",
      "⚠️ 2. kez yükseklik değişmedi (step 105)\n",
      "✅ Sayfa sonuna ulaşıldı, scroll durduruldu. (step 105)\n",
      "                                                 yorum  puan\n",
      "0    gerçekten yorum yapılmaya değer ürün beklediği...     5\n",
      "1                                      Kızım çok sevdi     5\n",
      "2                 Çok memnun kaldık kardeşim çok sevdi     5\n",
      "3              yeğenime hediye aldım gayet güzel bence     5\n",
      "4        Kızıma ve arkadaşına hediye aldım çok çok şık     5\n",
      "..                                                 ...   ...\n",
      "378  görselle alakası olmayan kalitesiz bir ürün gö...     1\n",
      "379                 gorselle alakası yok.iade edeceğiz     1\n",
      "380  Ürünün kutusu yok ve işaretlerinin 1 tanesi eksik     1\n",
      "381  gorselle alakası yok hafif bsy orjinal bile değil     1\n",
      "382                çok iyi değil 3D yazıcıdan basılmış     3\n",
      "\n",
      "[383 rows x 2 columns]\n"
     ]
    }
   ],
   "source": [
    "from selenium import webdriver\n",
    "from bs4 import BeautifulSoup\n",
    "import time\n",
    "import pandas as pd\n",
    "import re\n",
    "\n",
    "\n",
    "driver = webdriver.Chrome()\n",
    "urlP = \"WEB URL\"   #  <---------------\n",
    "driver.get(urlP)\n",
    "\n",
    "\n",
    "\n",
    "#scroll SETTİNGS \n",
    "\n",
    "\n",
    "scroll_pause = 2\n",
    "scroll_step = 1000\n",
    "scroll_limit = 1000     \n",
    "check_interval = 15     \n",
    "\n",
    "last_height = driver.execute_script(\"return document.body.scrollHeight\")\n",
    "unchanged_count = 0     \n",
    "\n",
    "for i in range(1, scroll_limit + 1):\n",
    "    driver.execute_script(f\"window.scrollBy(0, {scroll_step});\")\n",
    "    time.sleep(scroll_pause)\n",
    "\n",
    "    if i % check_interval == 0:  \n",
    "        new_height = driver.execute_script(\"return document.body.scrollHeight\")\n",
    "\n",
    "        if new_height == last_height:\n",
    "            unchanged_count += 1\n",
    "            print(f\"⚠️ {unchanged_count}. kez yükseklik değişmedi (step {i})\")\n",
    "        else:\n",
    "            unchanged_count = 0  \n",
    "            last_height = new_height\n",
    "\n",
    "        if unchanged_count >= 2:  \n",
    "            print(f\"✅ Sayfa sonuna ulaşıldı, scroll durduruldu. (step {i})\")\n",
    "            break\n",
    "\n",
    "\n",
    "\n",
    "\n",
    "\n",
    "soup = BeautifulSoup(driver.page_source, \"html.parser\")\n",
    "driver.quit()\n",
    "\n",
    "veriler = []\n",
    "\n",
    "yorum_bloklari = soup.find_all(\"div\", class_=\"comment\")    #   <--------------------\n",
    "\n",
    "for yorum in yorum_bloklari:\n",
    "    yorum_div = yorum.find(\"div\", class_=\"comment-text\")#   <--------------------\n",
    "    \n",
    "    yorum_p = yorum_div.find(\"p\") if yorum_div else None\n",
    "    \n",
    "    yorum_text = yorum_p.text.strip() if yorum_p else \"(command not found)\"    #   <--------------------\n",
    "\n",
    "    star_blocks = yorum.find_all(\"div\", class_=\"star-w\")    #   <--------------------\n",
    "    puan = 0\n",
    "\n",
    "    for star in star_blocks:\n",
    "        full = star.find(\"div\", class_=\"full\")   #   <--------------------\n",
    "        if full:\n",
    "            style = full.get(\"style\", \"\")\n",
    "            match = re.search(r'width:\\s*(\\d+)', style)\n",
    "            if match:\n",
    "                width = int(match.group(1))\n",
    "                if width >= 75:\n",
    "                    puan += 1\n",
    "                elif 25 <= width < 75:\n",
    "                    puan += 0.5\n",
    "\n",
    "    veriler.append({\n",
    "        \"yorum\": yorum_text,\n",
    "        \"puan\": puan\n",
    "    })\n",
    "\n",
    "\n",
    "df = pd.DataFrame(veriler)\n",
    "print(df)\n"
   ]
  },
  {
   "cell_type": "code",
   "execution_count": 8,
   "id": "bc2a0c0a-afee-4da0-a821-ea52c8c20862",
   "metadata": {},
   "outputs": [
    {
     "name": "stdout",
     "output_type": "stream",
     "text": [
      "Kaydedildi: yorumlar_2025-07-01_13-59-02.csv\n"
     ]
    }
   ],
   "source": [
    "\n",
    "from datetime import datetime\n",
    "\n",
    "\n",
    "tarih_saat = datetime.now().strftime(\"%Y-%m-%d_%H-%M-%S\")\n",
    "\n",
    "\n",
    "dosya_adi = f\"yorumlar_{tarih_saat}.csv\"\n",
    "\n",
    "\n",
    "df.to_csv(dosya_adi, index=False, encoding=\"utf-8-sig\")\n",
    "print(f\"Kaydedildi: {dosya_adi}\")\n"
   ]
  },
  {
   "cell_type": "code",
   "execution_count": null,
   "id": "2bd02428-4913-40d1-a7be-fe4bc8892433",
   "metadata": {},
   "outputs": [],
   "source": []
  }
 ],
 "metadata": {
  "kernelspec": {
   "display_name": "Python (deeplearn)",
   "language": "python",
   "name": "deeplearn"
  },
  "language_info": {
   "codemirror_mode": {
    "name": "ipython",
    "version": 3
   },
   "file_extension": ".py",
   "mimetype": "text/x-python",
   "name": "python",
   "nbconvert_exporter": "python",
   "pygments_lexer": "ipython3",
   "version": "3.9.23"
  }
 },
 "nbformat": 4,
 "nbformat_minor": 5
}
