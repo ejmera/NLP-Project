{
 "cells": [
  {
   "cell_type": "code",
   "execution_count": 18,
   "id": "a036e6da-bd1f-43cc-90ed-094e8d9044a5",
   "metadata": {},
   "outputs": [
    {
     "data": {
      "text/html": [
       "<div>\n",
       "<style scoped>\n",
       "    .dataframe tbody tr th:only-of-type {\n",
       "        vertical-align: middle;\n",
       "    }\n",
       "\n",
       "    .dataframe tbody tr th {\n",
       "        vertical-align: top;\n",
       "    }\n",
       "\n",
       "    .dataframe thead th {\n",
       "        text-align: right;\n",
       "    }\n",
       "</style>\n",
       "<table border=\"1\" class=\"dataframe\">\n",
       "  <thead>\n",
       "    <tr style=\"text-align: right;\">\n",
       "      <th></th>\n",
       "      <th>yorum</th>\n",
       "      <th>puan</th>\n",
       "    </tr>\n",
       "  </thead>\n",
       "  <tbody>\n",
       "    <tr>\n",
       "      <th>0</th>\n",
       "      <td>Yorumlara bakıp aldım dökülmem hiç durmuyordu ...</td>\n",
       "      <td>5</td>\n",
       "    </tr>\n",
       "    <tr>\n",
       "      <th>1</th>\n",
       "      <td>bu ürüne aşığımmmm saçlarım bir ayda 6cme kada...</td>\n",
       "      <td>5</td>\n",
       "    </tr>\n",
       "    <tr>\n",
       "      <th>2</th>\n",
       "      <td>cok basarili bir sampuan saclarimi kisa surede...</td>\n",
       "      <td>5</td>\n",
       "    </tr>\n",
       "    <tr>\n",
       "      <th>3</th>\n",
       "      <td>fenomen buket hanımın tavsiyesi üzerine kullan...</td>\n",
       "      <td>5</td>\n",
       "    </tr>\n",
       "    <tr>\n",
       "      <th>4</th>\n",
       "      <td>Asiri sac dokulmesi yasiyordum  bu sampuanla s...</td>\n",
       "      <td>5</td>\n",
       "    </tr>\n",
       "  </tbody>\n",
       "</table>\n",
       "</div>"
      ],
      "text/plain": [
       "                                               yorum  puan\n",
       "0  Yorumlara bakıp aldım dökülmem hiç durmuyordu ...     5\n",
       "1  bu ürüne aşığımmmm saçlarım bir ayda 6cme kada...     5\n",
       "2  cok basarili bir sampuan saclarimi kisa surede...     5\n",
       "3  fenomen buket hanımın tavsiyesi üzerine kullan...     5\n",
       "4  Asiri sac dokulmesi yasiyordum  bu sampuanla s...     5"
      ]
     },
     "execution_count": 18,
     "metadata": {},
     "output_type": "execute_result"
    }
   ],
   "source": [
    "import pandas as pd \n",
    "import re\n",
    "import string\n",
    "\n",
    "df =pd.read_csv(\"birlesmis_dosya.csv\")\n",
    "df=df.iloc[:,:2]\n",
    "df.head()\n",
    "\n"
   ]
  },
  {
   "cell_type": "code",
   "execution_count": 19,
   "id": "00d06724-5a86-4e63-bde4-04a54334a44e",
   "metadata": {},
   "outputs": [],
   "source": [
    "\n",
    "\n",
    "\n",
    "def temizle_metin(metin):\n",
    "    \n",
    "    if not isinstance(metin, str):\n",
    "        metin = str(metin)\n",
    "    \n",
    "    \n",
    "    metin = metin.lower()\n",
    "\n",
    "    \n",
    "    metin = re.sub(r'[^\\x00-\\x7F]+', ' ', metin)\n",
    "\n",
    "  \n",
    "    metin = metin.translate(str.maketrans('', '', string.punctuation))\n",
    "\n",
    "    \n",
    "    metin = re.sub(r'\\s+', ' ', metin).strip()\n",
    "\n",
    "    return metin\n"
   ]
  },
  {
   "cell_type": "code",
   "execution_count": 20,
   "id": "9755f92c-7402-4466-9551-ec9589a3974d",
   "metadata": {},
   "outputs": [
    {
     "data": {
      "text/plain": [
       "yorum\n",
       "<class 'str'>    6690\n",
       "Name: count, dtype: int64"
      ]
     },
     "execution_count": 20,
     "metadata": {},
     "output_type": "execute_result"
    }
   ],
   "source": [
    "df[\"yorum\"].apply(lambda x: type(x)).value_counts()"
   ]
  },
  {
   "cell_type": "code",
   "execution_count": 21,
   "id": "a8222cd2-e9d1-4335-9cf1-6f811817cb98",
   "metadata": {},
   "outputs": [
    {
     "name": "stdout",
     "output_type": "stream",
     "text": [
      "                                                  yorum  puan\n",
      "0     yorumlara bak p ald m d k lmem hi durmuyordu b...     5\n",
      "1     bu r ne a mmmm sa lar m bir ayda 6cme kadar uz...     5\n",
      "2     cok basarili bir sampuan saclarimi kisa surede...     5\n",
      "3     fenomen buket han m n tavsiyesi zerine kullanm...     5\n",
      "4     asiri sac dokulmesi yasiyordum bu sampuanla sa...     5\n",
      "...                                                 ...   ...\n",
      "6685  g rselle alakas olmayan kalitesiz bir r n g nd...     1\n",
      "6686                   gorselle alakas yokiade edece iz     1\n",
      "6687   r n n kutusu yok ve i aretlerinin 1 tanesi eksik     1\n",
      "6688   gorselle alakas yok hafif bsy orjinal bile de il     1\n",
      "6689                   ok iyi de il 3d yaz c dan bas lm     3\n",
      "\n",
      "[6690 rows x 2 columns]\n"
     ]
    }
   ],
   "source": [
    "df = df.dropna(subset=[\"yorum\"])  \n",
    "\n",
    "df[~df[\"yorum\"].apply(lambda x: isinstance(x, str))]\n",
    "\n",
    "df[\"yorum\"] = df[\"yorum\"].apply(temizle_metin)\n",
    "\n",
    "print(df)"
   ]
  },
  {
   "cell_type": "code",
   "execution_count": 26,
   "id": "24fa4b59-bf29-430f-a2f4-16b580b7d164",
   "metadata": {},
   "outputs": [
    {
     "name": "stdout",
     "output_type": "stream",
     "text": [
      "       09   10  100  100150  10070  100x150  1010  103  10ar  10numara  ...  \\\n",
      "0     0.0  0.0  0.0     0.0    0.0      0.0   0.0  0.0   0.0       0.0  ...   \n",
      "1     0.0  0.0  0.0     0.0    0.0      0.0   0.0  0.0   0.0       0.0  ...   \n",
      "2     0.0  0.0  0.0     0.0    0.0      0.0   0.0  0.0   0.0       0.0  ...   \n",
      "3     0.0  0.0  0.0     0.0    0.0      0.0   0.0  0.0   0.0       0.0  ...   \n",
      "4     0.0  0.0  0.0     0.0    0.0      0.0   0.0  0.0   0.0       0.0  ...   \n",
      "...   ...  ...  ...     ...    ...      ...   ...  ...   ...       ...  ...   \n",
      "6685  0.0  0.0  0.0     0.0    0.0      0.0   0.0  0.0   0.0       0.0  ...   \n",
      "6686  0.0  0.0  0.0     0.0    0.0      0.0   0.0  0.0   0.0       0.0  ...   \n",
      "6687  0.0  0.0  0.0     0.0    0.0      0.0   0.0  0.0   0.0       0.0  ...   \n",
      "6688  0.0  0.0  0.0     0.0    0.0      0.0   0.0  0.0   0.0       0.0  ...   \n",
      "6689  0.0  0.0  0.0     0.0    0.0      0.0   0.0  0.0   0.0       0.0  ...   \n",
      "\n",
      "      zorunday  zqed  zrel   zs   zt  ztn  zume   zy   zz  zzz  \n",
      "0          0.0   0.0   0.0  0.0  0.0  0.0   0.0  0.0  0.0  0.0  \n",
      "1          0.0   0.0   0.0  0.0  0.0  0.0   0.0  0.0  0.0  0.0  \n",
      "2          0.0   0.0   0.0  0.0  0.0  0.0   0.0  0.0  0.0  0.0  \n",
      "3          0.0   0.0   0.0  0.0  0.0  0.0   0.0  0.0  0.0  0.0  \n",
      "4          0.0   0.0   0.0  0.0  0.0  0.0   0.0  0.0  0.0  0.0  \n",
      "...        ...   ...   ...  ...  ...  ...   ...  ...  ...  ...  \n",
      "6685       0.0   0.0   0.0  0.0  0.0  0.0   0.0  0.0  0.0  0.0  \n",
      "6686       0.0   0.0   0.0  0.0  0.0  0.0   0.0  0.0  0.0  0.0  \n",
      "6687       0.0   0.0   0.0  0.0  0.0  0.0   0.0  0.0  0.0  0.0  \n",
      "6688       0.0   0.0   0.0  0.0  0.0  0.0   0.0  0.0  0.0  0.0  \n",
      "6689       0.0   0.0   0.0  0.0  0.0  0.0   0.0  0.0  0.0  0.0  \n",
      "\n",
      "[6690 rows x 8127 columns]\n"
     ]
    }
   ],
   "source": [
    "from sklearn.feature_extraction.text import TfidfVectorizer\n",
    "\n",
    "tVec=TfidfVectorizer()\n",
    "\n",
    "X_tfidf = tVec.fit_transform(df[\"yorum\"])\n",
    "\n",
    "df_tfidf = pd.DataFrame(X_tfidf.toarray(), columns=tVec.get_feature_names_out())\n",
    "                        \n",
    "df_birlesik = pd.concat([df, df_tfidf], axis=1)\n",
    "\n",
    "df_birlesik.to_csv(\"testValue.csv\", index=False)\n",
    "\n",
    "X=df_birlesik.iloc[:,2:]\n",
    "print(X)"
   ]
  },
  {
   "cell_type": "code",
   "execution_count": 27,
   "id": "bf55a0e4-3016-4566-8b1a-2c5d2f7b4baa",
   "metadata": {},
   "outputs": [
    {
     "name": "stdout",
     "output_type": "stream",
     "text": [
      "0       5\n",
      "1       5\n",
      "2       5\n",
      "3       5\n",
      "4       5\n",
      "       ..\n",
      "6685    1\n",
      "6686    1\n",
      "6687    1\n",
      "6688    1\n",
      "6689    3\n",
      "Name: puan, Length: 6690, dtype: int64\n"
     ]
    }
   ],
   "source": [
    "from sklearn.model_selection import train_test_split\n",
    "from sklearn.linear_model import LogisticRegression\n",
    "from sklearn.metrics import classification_report, accuracy_score\n",
    "\n",
    "y = df[\"puan\"]\n",
    "\n",
    "\n",
    "X_train, X_test, y_train, y_test = train_test_split(X, y, test_size=0.3, random_state=42)\n",
    "print(y)"
   ]
  },
  {
   "cell_type": "code",
   "execution_count": 28,
   "id": "71ba0fac-09ce-4199-9308-ebbca08db8f9",
   "metadata": {},
   "outputs": [
    {
     "name": "stdout",
     "output_type": "stream",
     "text": [
      "Accuracy: 0.7628300946686597\n",
      "\n",
      "Sınıflandırma Raporu:\n",
      "               precision    recall  f1-score   support\n",
      "\n",
      "           1       0.67      0.48      0.56       138\n",
      "           2       0.00      0.00      0.00        54\n",
      "           3       0.45      0.12      0.18       130\n",
      "           4       0.16      0.01      0.03       218\n",
      "           5       0.78      0.99      0.87      1467\n",
      "\n",
      "    accuracy                           0.76      2007\n",
      "   macro avg       0.41      0.32      0.33      2007\n",
      "weighted avg       0.66      0.76      0.69      2007\n",
      "\n"
     ]
    },
    {
     "name": "stderr",
     "output_type": "stream",
     "text": [
      "C:\\Users\\Enes BULUT\\anaconda3\\envs\\deeplearn\\lib\\site-packages\\sklearn\\metrics\\_classification.py:1565: UndefinedMetricWarning: Precision is ill-defined and being set to 0.0 in labels with no predicted samples. Use `zero_division` parameter to control this behavior.\n",
      "  _warn_prf(average, modifier, f\"{metric.capitalize()} is\", len(result))\n",
      "C:\\Users\\Enes BULUT\\anaconda3\\envs\\deeplearn\\lib\\site-packages\\sklearn\\metrics\\_classification.py:1565: UndefinedMetricWarning: Precision is ill-defined and being set to 0.0 in labels with no predicted samples. Use `zero_division` parameter to control this behavior.\n",
      "  _warn_prf(average, modifier, f\"{metric.capitalize()} is\", len(result))\n",
      "C:\\Users\\Enes BULUT\\anaconda3\\envs\\deeplearn\\lib\\site-packages\\sklearn\\metrics\\_classification.py:1565: UndefinedMetricWarning: Precision is ill-defined and being set to 0.0 in labels with no predicted samples. Use `zero_division` parameter to control this behavior.\n",
      "  _warn_prf(average, modifier, f\"{metric.capitalize()} is\", len(result))\n"
     ]
    }
   ],
   "source": [
    "\n",
    "model = LogisticRegression()\n",
    "model.fit(X_train, y_train)\n",
    "\n",
    "# Tahmin yap\n",
    "y_pred = model.predict(X_test)\n",
    "\n",
    "print(\"Accuracy:\", accuracy_score(y_test, y_pred))\n",
    "print(\"\\nSınıflandırma Raporu:\\n\", classification_report(y_test, y_pred))\n",
    "\n"
   ]
  },
  {
   "cell_type": "code",
   "execution_count": 29,
   "id": "0917faea-e42a-42f1-994f-eb88c6c67b2b",
   "metadata": {},
   "outputs": [
    {
     "name": "stdout",
     "output_type": "stream",
     "text": [
      "247     5\n",
      "3396    5\n",
      "6083    5\n",
      "2943    5\n",
      "4727    5\n",
      "       ..\n",
      "6435    5\n",
      "2288    5\n",
      "3035    5\n",
      "2995    4\n",
      "2771    5\n",
      "Name: puan, Length: 2007, dtype: int64 [5 5 5 ... 5 5 5]\n"
     ]
    }
   ],
   "source": [
    "print(y_test,y_pred)\n",
    "\n"
   ]
  },
  {
   "cell_type": "code",
   "execution_count": 31,
   "id": "81e117e5-2bf0-4483-9b59-0f771f8c3318",
   "metadata": {},
   "outputs": [
    {
     "name": "stdout",
     "output_type": "stream",
     "text": [
      "Tahmin edilen sınıf: 5\n"
     ]
    }
   ],
   "source": [
    "yeni_cumle = \"alın\"\n",
    "\n",
    "\n",
    "temiz = temizle_metin(yeni_cumle)\n",
    "\n",
    "\n",
    "yeni_vektor = tVec.transform([temiz])\n",
    "\n",
    "tahmin = model.predict(yeni_vektor)\n",
    "\n",
    "print(\"Tahmin edilen sınıf:\", tahmin[0])"
   ]
  },
  {
   "cell_type": "code",
   "execution_count": null,
   "id": "775046f0-8af0-47e1-884b-1fc46ab505ea",
   "metadata": {},
   "outputs": [],
   "source": []
  }
 ],
 "metadata": {
  "kernelspec": {
   "display_name": "Python (deeplearn)",
   "language": "python",
   "name": "deeplearn"
  },
  "language_info": {
   "codemirror_mode": {
    "name": "ipython",
    "version": 3
   },
   "file_extension": ".py",
   "mimetype": "text/x-python",
   "name": "python",
   "nbconvert_exporter": "python",
   "pygments_lexer": "ipython3",
   "version": "3.9.23"
  }
 },
 "nbformat": 4,
 "nbformat_minor": 5
}
