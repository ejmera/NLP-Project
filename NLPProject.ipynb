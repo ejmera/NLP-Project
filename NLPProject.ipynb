{
 "cells": [
  {
   "cell_type": "code",
   "execution_count": null,
   "id": "a036e6da-bd1f-43cc-90ed-094e8d9044a5",
   "metadata": {},
   "outputs": [],
   "source": [
    "import pandas as pd \n",
    "import re\n",
    "import string\n",
    "\n",
    "df =pd.read_csv(\"birlesmis_dosya.csv\")\n",
    "df=df.iloc[:,:2]\n",
    "df.head()\n",
    "\n"
   ]
  },
  {
   "cell_type": "code",
   "execution_count": null,
   "id": "00d06724-5a86-4e63-bde4-04a54334a44e",
   "metadata": {},
   "outputs": [],
   "source": [
    "\n",
    "\n",
    "\n",
    "def temizle_metin(metin):\n",
    "    \n",
    "    if not isinstance(metin, str):\n",
    "        metin = str(metin)\n",
    "    \n",
    "    \n",
    "    metin = metin.lower()\n",
    "\n",
    "    \n",
    "    metin = re.sub(r'[^\\x00-\\x7F]+', ' ', metin)\n",
    "\n",
    "  \n",
    "    metin = metin.translate(str.maketrans('', '', string.punctuation))\n",
    "\n",
    "    \n",
    "    metin = re.sub(r'\\s+', ' ', metin).strip()\n",
    "\n",
    "    return metin\n"
   ]
  },
  {
   "cell_type": "code",
   "execution_count": null,
   "id": "9755f92c-7402-4466-9551-ec9589a3974d",
   "metadata": {},
   "outputs": [],
   "source": [
    "df[\"yorum\"].apply(lambda x: type(x)).value_counts()"
   ]
  },
  {
   "cell_type": "code",
   "execution_count": null,
   "id": "a8222cd2-e9d1-4335-9cf1-6f811817cb98",
   "metadata": {},
   "outputs": [],
   "source": [
    "df = df.dropna(subset=[\"yorum\"])  \n",
    "\n",
    "df[~df[\"yorum\"].apply(lambda x: isinstance(x, str))]\n",
    "\n",
    "df[\"yorum\"] = df[\"yorum\"].apply(temizle_metin)\n",
    "\n",
    "print(df)"
   ]
  },
  {
   "cell_type": "code",
   "execution_count": null,
   "id": "24fa4b59-bf29-430f-a2f4-16b580b7d164",
   "metadata": {},
   "outputs": [],
   "source": [
    "from sklearn.feature_extraction.text import TfidfVectorizer\n",
    "\n",
    "tVec=TfidfVectorizer()\n",
    "\n",
    "X_tfidf = tVec.fit_transform(df[\"yorum\"])\n",
    "\n",
    "df_tfidf = pd.DataFrame(X_tfidf.toarray(), columns=tVec.get_feature_names_out())\n",
    "                        \n",
    "df_birlesik = pd.concat([df, df_tfidf], axis=1)\n",
    "\n",
    "df_birlesik.to_csv(\"testValue.csv\", index=False)\n",
    "\n",
    "X=df_birlesik.iloc[:,2:]\n",
    "print(X)"
   ]
  },
  {
   "cell_type": "code",
   "execution_count": null,
   "id": "bf55a0e4-3016-4566-8b1a-2c5d2f7b4baa",
   "metadata": {},
   "outputs": [],
   "source": [
    "from sklearn.model_selection import train_test_split\n",
    "from sklearn.linear_model import LogisticRegression\n",
    "from sklearn.metrics import classification_report, accuracy_score\n",
    "\n",
    "y = df[\"puan\"]\n",
    "\n",
    "\n",
    "X_train, X_test, y_train, y_test = train_test_split(X, y, test_size=0.3, random_state=42)\n",
    "print(y)"
   ]
  },
  {
   "cell_type": "code",
   "execution_count": null,
   "id": "71ba0fac-09ce-4199-9308-ebbca08db8f9",
   "metadata": {},
   "outputs": [],
   "source": [
    "\n",
    "model = LogisticRegression()\n",
    "model.fit(X_train, y_train)\n",
    "\n",
    "# Tahmin yap\n",
    "y_pred = model.predict(X_test)\n",
    "\n",
    "print(\"Accuracy:\", accuracy_score(y_test, y_pred))\n",
    "print(\"\\nSınıflandırma Raporu:\\n\", classification_report(y_test, y_pred))\n",
    "\n"
   ]
  },
  {
   "cell_type": "code",
   "execution_count": null,
   "id": "0917faea-e42a-42f1-994f-eb88c6c67b2b",
   "metadata": {},
   "outputs": [],
   "source": [
    "print(y_test,y_pred)\n",
    "\n"
   ]
  },
  {
   "cell_type": "code",
   "execution_count": null,
   "id": "81e117e5-2bf0-4483-9b59-0f771f8c3318",
   "metadata": {},
   "outputs": [],
   "source": [
    "yeni_cumle = \"alın\"\n",
    "\n",
    "\n",
    "temiz = temizle_metin(yeni_cumle)\n",
    "\n",
    "\n",
    "yeni_vektor = tVec.transform([temiz])\n",
    "\n",
    "tahmin = model.predict(yeni_vektor)\n",
    "\n",
    "print(\"Tahmin edilen sınıf:\", tahmin[0])"
   ]
  }
 ],
 "metadata": {
  "kernelspec": {
   "display_name": "Python (deeplearn)",
   "language": "python",
   "name": "deeplearn"
  },
  "language_info": {
   "codemirror_mode": {
    "name": "ipython",
    "version": 3
   },
   "file_extension": ".py",
   "mimetype": "text/x-python",
   "name": "python",
   "nbconvert_exporter": "python",
   "pygments_lexer": "ipython3",
   "version": "3.9.23"
  }
 },
 "nbformat": 4,
 "nbformat_minor": 5
}
